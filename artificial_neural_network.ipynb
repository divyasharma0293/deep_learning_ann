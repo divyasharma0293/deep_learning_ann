{
  "nbformat": 4,
  "nbformat_minor": 0,
  "metadata": {
    "colab": {
      "name": "Copy of artificial_neural_network.ipynb",
      "provenance": [],
      "collapsed_sections": [],
      "toc_visible": true,
      "include_colab_link": true
    },
    "kernelspec": {
      "name": "python3",
      "display_name": "Python 3"
    }
  },
  "cells": [
    {
      "cell_type": "markdown",
      "metadata": {
        "id": "view-in-github",
        "colab_type": "text"
      },
      "source": [
        "<a href=\"https://colab.research.google.com/github/divyasharma0293/deep_learning_ann/blob/main/artificial_neural_network.ipynb\" target=\"_parent\"><img src=\"https://colab.research.google.com/assets/colab-badge.svg\" alt=\"Open In Colab\"/></a>"
      ]
    },
    {
      "cell_type": "markdown",
      "metadata": {
        "id": "lP6JLo1tGNBg"
      },
      "source": [
        "# Artificial Neural Network"
      ]
    },
    {
      "cell_type": "markdown",
      "metadata": {
        "id": "gWZyYmS_UE_L"
      },
      "source": [
        "### Importing the libraries"
      ]
    },
    {
      "cell_type": "code",
      "metadata": {
        "id": "DtPb6HWC5I-P"
      },
      "source": [
        "import pandas as pd\n",
        "import numpy as np\n",
        "import tensorflow as tf"
      ],
      "execution_count": 1,
      "outputs": []
    },
    {
      "cell_type": "code",
      "metadata": {
        "id": "1TxufhZQ5iQb",
        "outputId": "10cbbfed-e6ba-40f2-9688-30d41c239092",
        "colab": {
          "base_uri": "https://localhost:8080/",
          "height": 35
        }
      },
      "source": [
        "tf.__version__"
      ],
      "execution_count": 2,
      "outputs": [
        {
          "output_type": "execute_result",
          "data": {
            "application/vnd.google.colaboratory.intrinsic+json": {
              "type": "string"
            },
            "text/plain": [
              "'2.3.0'"
            ]
          },
          "metadata": {
            "tags": []
          },
          "execution_count": 2
        }
      ]
    },
    {
      "cell_type": "markdown",
      "metadata": {
        "id": "1E0Q3aoKUCRX"
      },
      "source": [
        "## Part 1 - Data Preprocessing"
      ]
    },
    {
      "cell_type": "markdown",
      "metadata": {
        "id": "cKWAkFVGUU0Z"
      },
      "source": [
        "### Importing the dataset"
      ]
    },
    {
      "cell_type": "code",
      "metadata": {
        "id": "R0iN_SWG5thr"
      },
      "source": [
        "dataset = pd.read_csv(\"Churn_Modelling.csv\")\n",
        "X = dataset.iloc[:,3:-1].values\n",
        "y = dataset.iloc[:,-1].values"
      ],
      "execution_count": 3,
      "outputs": []
    },
    {
      "cell_type": "code",
      "metadata": {
        "id": "WC_58I_z6Xyg",
        "outputId": "41191b0b-9606-4bba-ed51-cf8b18377098",
        "colab": {
          "base_uri": "https://localhost:8080/"
        }
      },
      "source": [
        "print(X)"
      ],
      "execution_count": 4,
      "outputs": [
        {
          "output_type": "stream",
          "text": [
            "[[619 'France' 'Female' ... 1 1 101348.88]\n",
            " [608 'Spain' 'Female' ... 0 1 112542.58]\n",
            " [502 'France' 'Female' ... 1 0 113931.57]\n",
            " ...\n",
            " [709 'France' 'Female' ... 0 1 42085.58]\n",
            " [772 'Germany' 'Male' ... 1 0 92888.52]\n",
            " [792 'France' 'Female' ... 1 0 38190.78]]\n"
          ],
          "name": "stdout"
        }
      ]
    },
    {
      "cell_type": "code",
      "metadata": {
        "id": "_P3VR-DQ6aYe",
        "outputId": "af9bad81-fd98-443d-d961-106caac27752",
        "colab": {
          "base_uri": "https://localhost:8080/"
        }
      },
      "source": [
        "print(y)"
      ],
      "execution_count": 5,
      "outputs": [
        {
          "output_type": "stream",
          "text": [
            "[1 0 1 ... 1 1 0]\n"
          ],
          "name": "stdout"
        }
      ]
    },
    {
      "cell_type": "markdown",
      "metadata": {
        "id": "N6bQ0UgSU-NJ"
      },
      "source": [
        "### Encoding categorical data"
      ]
    },
    {
      "cell_type": "markdown",
      "metadata": {
        "id": "le5MJreAbW52"
      },
      "source": [
        "Label Encoding the \"Gender\" column"
      ]
    },
    {
      "cell_type": "code",
      "metadata": {
        "id": "vPSJxHXH6Rw1"
      },
      "source": [
        "from sklearn.preprocessing import LabelEncoder\n",
        "le = LabelEncoder()\n",
        "X[:,2]= le.fit_transform(X[:,2])"
      ],
      "execution_count": 6,
      "outputs": []
    },
    {
      "cell_type": "markdown",
      "metadata": {
        "id": "CUxGZezpbMcb"
      },
      "source": [
        "One Hot Encoding the \"Geography\" column"
      ]
    },
    {
      "cell_type": "code",
      "metadata": {
        "id": "l525mP-C6-wr"
      },
      "source": [
        "from sklearn.compose import ColumnTransformer\n",
        "from sklearn.preprocessing import OneHotEncoder\n",
        "ct = ColumnTransformer(transformers = [('encoder', OneHotEncoder(),[1])], remainder = 'passthrough')\n",
        "X = np.array(ct.fit_transform(X))"
      ],
      "execution_count": 7,
      "outputs": []
    },
    {
      "cell_type": "code",
      "metadata": {
        "id": "hkFvTOJ87fSO",
        "outputId": "f3d38378-ed5c-4cc0-af91-a45a6e066ce9",
        "colab": {
          "base_uri": "https://localhost:8080/"
        }
      },
      "source": [
        "print(X)"
      ],
      "execution_count": 8,
      "outputs": [
        {
          "output_type": "stream",
          "text": [
            "[[1.0 0.0 0.0 ... 1 1 101348.88]\n",
            " [0.0 0.0 1.0 ... 0 1 112542.58]\n",
            " [1.0 0.0 0.0 ... 1 0 113931.57]\n",
            " ...\n",
            " [1.0 0.0 0.0 ... 0 1 42085.58]\n",
            " [0.0 1.0 0.0 ... 1 0 92888.52]\n",
            " [1.0 0.0 0.0 ... 1 0 38190.78]]\n"
          ],
          "name": "stdout"
        }
      ]
    },
    {
      "cell_type": "markdown",
      "metadata": {
        "id": "vHol938cW8zd"
      },
      "source": [
        "### Splitting the dataset into the Training set and Test set"
      ]
    },
    {
      "cell_type": "code",
      "metadata": {
        "id": "qBHYc92879iX"
      },
      "source": [
        "from sklearn.model_selection import train_test_split\n",
        "X_train, X_test, y_train, y_test = train_test_split(X, y, test_size = 0.20, random_state = 0)"
      ],
      "execution_count": 9,
      "outputs": []
    },
    {
      "cell_type": "markdown",
      "metadata": {
        "id": "RE_FcHyfV3TQ"
      },
      "source": [
        "### Feature Scaling"
      ]
    },
    {
      "cell_type": "code",
      "metadata": {
        "id": "mJPHEQ_-8Jfe"
      },
      "source": [
        "from sklearn.preprocessing import StandardScaler\n",
        "sc = StandardScaler()\n",
        "X_train = sc.fit_transform(X_train)\n",
        "X_test = sc.transform(X_test)"
      ],
      "execution_count": 10,
      "outputs": []
    },
    {
      "cell_type": "markdown",
      "metadata": {
        "id": "-zfEzkRVXIwF"
      },
      "source": [
        "## Part 2 - Building the ANN"
      ]
    },
    {
      "cell_type": "markdown",
      "metadata": {
        "id": "KvdeScabXtlB"
      },
      "source": [
        "### Initializing the ANN"
      ]
    },
    {
      "cell_type": "code",
      "metadata": {
        "id": "HOHk7PoM8hcT"
      },
      "source": [
        "ann = tf.keras.models.Sequential()"
      ],
      "execution_count": 11,
      "outputs": []
    },
    {
      "cell_type": "markdown",
      "metadata": {
        "id": "rP6urV6SX7kS"
      },
      "source": [
        "### Adding the input layer and the first hidden layer"
      ]
    },
    {
      "cell_type": "code",
      "metadata": {
        "id": "u7liBHbo9AY4"
      },
      "source": [
        "ann.add(tf.keras.layers.Dense(units = 6, activation = 'relu'))"
      ],
      "execution_count": 12,
      "outputs": []
    },
    {
      "cell_type": "markdown",
      "metadata": {
        "id": "BELWAc_8YJze"
      },
      "source": [
        "### Adding the second hidden layer"
      ]
    },
    {
      "cell_type": "code",
      "metadata": {
        "id": "RTK4cI1X9tF_"
      },
      "source": [
        "ann.add(tf.keras.layers.Dense(units = 6, activation = 'relu'))"
      ],
      "execution_count": 13,
      "outputs": []
    },
    {
      "cell_type": "markdown",
      "metadata": {
        "id": "OyNEe6RXYcU4"
      },
      "source": [
        "### Adding the output layer"
      ]
    },
    {
      "cell_type": "code",
      "metadata": {
        "id": "R_VA7yQh90-W"
      },
      "source": [
        "ann.add(tf.keras.layers.Dense(units = 1, activation = 'sigmoid'))"
      ],
      "execution_count": 14,
      "outputs": []
    },
    {
      "cell_type": "markdown",
      "metadata": {
        "id": "JT4u2S1_Y4WG"
      },
      "source": [
        "## Part 3 - Training the ANN"
      ]
    },
    {
      "cell_type": "markdown",
      "metadata": {
        "id": "8GWlJChhY_ZI"
      },
      "source": [
        "### Compiling the ANN"
      ]
    },
    {
      "cell_type": "code",
      "metadata": {
        "id": "ZUHBOvSG-ROr"
      },
      "source": [
        "ann.compile(optimizer = 'adam' ,loss= 'binary_crossentropy', metrics = 'accuracy')"
      ],
      "execution_count": 15,
      "outputs": []
    },
    {
      "cell_type": "markdown",
      "metadata": {
        "id": "0QR_G5u7ZLSM"
      },
      "source": [
        "### Training the ANN on the Training set"
      ]
    },
    {
      "cell_type": "code",
      "metadata": {
        "id": "3nBmrlUs_GMi",
        "outputId": "49f0872e-d82d-4811-edbd-8e1aad870bd8",
        "colab": {
          "base_uri": "https://localhost:8080/"
        }
      },
      "source": [
        "ann.fit(X_train, y_train, batch_size = 32, epochs = 100)"
      ],
      "execution_count": 16,
      "outputs": [
        {
          "output_type": "stream",
          "text": [
            "Epoch 1/100\n",
            "250/250 [==============================] - 0s 1ms/step - loss: 0.5963 - accuracy: 0.7230\n",
            "Epoch 2/100\n",
            "250/250 [==============================] - 0s 1ms/step - loss: 0.4719 - accuracy: 0.7975\n",
            "Epoch 3/100\n",
            "250/250 [==============================] - 0s 997us/step - loss: 0.4392 - accuracy: 0.8016\n",
            "Epoch 4/100\n",
            "250/250 [==============================] - 0s 949us/step - loss: 0.4229 - accuracy: 0.8104\n",
            "Epoch 5/100\n",
            "250/250 [==============================] - 0s 974us/step - loss: 0.4100 - accuracy: 0.8209\n",
            "Epoch 6/100\n",
            "250/250 [==============================] - 0s 979us/step - loss: 0.3968 - accuracy: 0.8294\n",
            "Epoch 7/100\n",
            "250/250 [==============================] - 0s 891us/step - loss: 0.3845 - accuracy: 0.8406\n",
            "Epoch 8/100\n",
            "250/250 [==============================] - 0s 1ms/step - loss: 0.3754 - accuracy: 0.8444\n",
            "Epoch 9/100\n",
            "250/250 [==============================] - 0s 989us/step - loss: 0.3683 - accuracy: 0.8482\n",
            "Epoch 10/100\n",
            "250/250 [==============================] - 0s 1ms/step - loss: 0.3643 - accuracy: 0.8499\n",
            "Epoch 11/100\n",
            "250/250 [==============================] - 0s 1ms/step - loss: 0.3608 - accuracy: 0.8511\n",
            "Epoch 12/100\n",
            "250/250 [==============================] - 0s 938us/step - loss: 0.3580 - accuracy: 0.8528\n",
            "Epoch 13/100\n",
            "250/250 [==============================] - 0s 1ms/step - loss: 0.3556 - accuracy: 0.8546\n",
            "Epoch 14/100\n",
            "250/250 [==============================] - 0s 961us/step - loss: 0.3533 - accuracy: 0.8546\n",
            "Epoch 15/100\n",
            "250/250 [==============================] - 0s 911us/step - loss: 0.3514 - accuracy: 0.8549\n",
            "Epoch 16/100\n",
            "250/250 [==============================] - 0s 950us/step - loss: 0.3499 - accuracy: 0.8565\n",
            "Epoch 17/100\n",
            "250/250 [==============================] - 0s 989us/step - loss: 0.3486 - accuracy: 0.8572\n",
            "Epoch 18/100\n",
            "250/250 [==============================] - 0s 942us/step - loss: 0.3472 - accuracy: 0.8572\n",
            "Epoch 19/100\n",
            "250/250 [==============================] - 0s 900us/step - loss: 0.3465 - accuracy: 0.8587\n",
            "Epoch 20/100\n",
            "250/250 [==============================] - 0s 951us/step - loss: 0.3456 - accuracy: 0.8583\n",
            "Epoch 21/100\n",
            "250/250 [==============================] - 0s 945us/step - loss: 0.3447 - accuracy: 0.8589\n",
            "Epoch 22/100\n",
            "250/250 [==============================] - 0s 960us/step - loss: 0.3444 - accuracy: 0.8591\n",
            "Epoch 23/100\n",
            "250/250 [==============================] - 0s 906us/step - loss: 0.3436 - accuracy: 0.8596\n",
            "Epoch 24/100\n",
            "250/250 [==============================] - 0s 1ms/step - loss: 0.3429 - accuracy: 0.8601\n",
            "Epoch 25/100\n",
            "250/250 [==============================] - 0s 998us/step - loss: 0.3429 - accuracy: 0.8606\n",
            "Epoch 26/100\n",
            "250/250 [==============================] - 0s 1ms/step - loss: 0.3420 - accuracy: 0.8608\n",
            "Epoch 27/100\n",
            "250/250 [==============================] - 0s 945us/step - loss: 0.3420 - accuracy: 0.8591\n",
            "Epoch 28/100\n",
            "250/250 [==============================] - 0s 889us/step - loss: 0.3417 - accuracy: 0.8606\n",
            "Epoch 29/100\n",
            "250/250 [==============================] - 0s 883us/step - loss: 0.3412 - accuracy: 0.8596\n",
            "Epoch 30/100\n",
            "250/250 [==============================] - 0s 1ms/step - loss: 0.3409 - accuracy: 0.8611\n",
            "Epoch 31/100\n",
            "250/250 [==============================] - 0s 970us/step - loss: 0.3403 - accuracy: 0.8619\n",
            "Epoch 32/100\n",
            "250/250 [==============================] - 0s 934us/step - loss: 0.3402 - accuracy: 0.8615\n",
            "Epoch 33/100\n",
            "250/250 [==============================] - 0s 936us/step - loss: 0.3394 - accuracy: 0.8633\n",
            "Epoch 34/100\n",
            "250/250 [==============================] - 0s 1ms/step - loss: 0.3393 - accuracy: 0.8621\n",
            "Epoch 35/100\n",
            "250/250 [==============================] - 0s 920us/step - loss: 0.3387 - accuracy: 0.8626\n",
            "Epoch 36/100\n",
            "250/250 [==============================] - 0s 991us/step - loss: 0.3390 - accuracy: 0.8621\n",
            "Epoch 37/100\n",
            "250/250 [==============================] - 0s 1ms/step - loss: 0.3384 - accuracy: 0.8622\n",
            "Epoch 38/100\n",
            "250/250 [==============================] - 0s 1ms/step - loss: 0.3382 - accuracy: 0.8610\n",
            "Epoch 39/100\n",
            "250/250 [==============================] - 0s 996us/step - loss: 0.3379 - accuracy: 0.8616\n",
            "Epoch 40/100\n",
            "250/250 [==============================] - 0s 964us/step - loss: 0.3378 - accuracy: 0.8610\n",
            "Epoch 41/100\n",
            "250/250 [==============================] - 0s 934us/step - loss: 0.3376 - accuracy: 0.8639\n",
            "Epoch 42/100\n",
            "250/250 [==============================] - 0s 1ms/step - loss: 0.3374 - accuracy: 0.8636\n",
            "Epoch 43/100\n",
            "250/250 [==============================] - 0s 959us/step - loss: 0.3369 - accuracy: 0.8637\n",
            "Epoch 44/100\n",
            "250/250 [==============================] - 0s 976us/step - loss: 0.3367 - accuracy: 0.8618\n",
            "Epoch 45/100\n",
            "250/250 [==============================] - 0s 972us/step - loss: 0.3373 - accuracy: 0.8627\n",
            "Epoch 46/100\n",
            "250/250 [==============================] - 0s 1ms/step - loss: 0.3371 - accuracy: 0.8624\n",
            "Epoch 47/100\n",
            "250/250 [==============================] - 0s 994us/step - loss: 0.3368 - accuracy: 0.8634\n",
            "Epoch 48/100\n",
            "250/250 [==============================] - 0s 924us/step - loss: 0.3364 - accuracy: 0.8639\n",
            "Epoch 49/100\n",
            "250/250 [==============================] - 0s 1ms/step - loss: 0.3365 - accuracy: 0.8635\n",
            "Epoch 50/100\n",
            "250/250 [==============================] - 0s 1ms/step - loss: 0.3365 - accuracy: 0.8627\n",
            "Epoch 51/100\n",
            "250/250 [==============================] - 0s 1ms/step - loss: 0.3361 - accuracy: 0.8637\n",
            "Epoch 52/100\n",
            "250/250 [==============================] - 0s 956us/step - loss: 0.3362 - accuracy: 0.8619\n",
            "Epoch 53/100\n",
            "250/250 [==============================] - 0s 1ms/step - loss: 0.3359 - accuracy: 0.8629\n",
            "Epoch 54/100\n",
            "250/250 [==============================] - 0s 964us/step - loss: 0.3362 - accuracy: 0.8631\n",
            "Epoch 55/100\n",
            "250/250 [==============================] - 0s 935us/step - loss: 0.3360 - accuracy: 0.8640\n",
            "Epoch 56/100\n",
            "250/250 [==============================] - 0s 1ms/step - loss: 0.3356 - accuracy: 0.8630\n",
            "Epoch 57/100\n",
            "250/250 [==============================] - 0s 1ms/step - loss: 0.3356 - accuracy: 0.8624\n",
            "Epoch 58/100\n",
            "250/250 [==============================] - 0s 956us/step - loss: 0.3357 - accuracy: 0.8625\n",
            "Epoch 59/100\n",
            "250/250 [==============================] - 0s 939us/step - loss: 0.3355 - accuracy: 0.8626\n",
            "Epoch 60/100\n",
            "250/250 [==============================] - 0s 956us/step - loss: 0.3354 - accuracy: 0.8637\n",
            "Epoch 61/100\n",
            "250/250 [==============================] - 0s 1ms/step - loss: 0.3352 - accuracy: 0.8658\n",
            "Epoch 62/100\n",
            "250/250 [==============================] - 0s 962us/step - loss: 0.3355 - accuracy: 0.8640\n",
            "Epoch 63/100\n",
            "250/250 [==============================] - 0s 946us/step - loss: 0.3353 - accuracy: 0.8636\n",
            "Epoch 64/100\n",
            "250/250 [==============================] - 0s 919us/step - loss: 0.3351 - accuracy: 0.8643\n",
            "Epoch 65/100\n",
            "250/250 [==============================] - 0s 963us/step - loss: 0.3349 - accuracy: 0.8641\n",
            "Epoch 66/100\n",
            "250/250 [==============================] - 0s 949us/step - loss: 0.3349 - accuracy: 0.8641\n",
            "Epoch 67/100\n",
            "250/250 [==============================] - 0s 919us/step - loss: 0.3349 - accuracy: 0.8640\n",
            "Epoch 68/100\n",
            "250/250 [==============================] - 0s 926us/step - loss: 0.3348 - accuracy: 0.8636\n",
            "Epoch 69/100\n",
            "250/250 [==============================] - 0s 1ms/step - loss: 0.3346 - accuracy: 0.8643\n",
            "Epoch 70/100\n",
            "250/250 [==============================] - 0s 1ms/step - loss: 0.3347 - accuracy: 0.8639\n",
            "Epoch 71/100\n",
            "250/250 [==============================] - 0s 965us/step - loss: 0.3343 - accuracy: 0.8643\n",
            "Epoch 72/100\n",
            "250/250 [==============================] - 0s 890us/step - loss: 0.3346 - accuracy: 0.8636\n",
            "Epoch 73/100\n",
            "250/250 [==============================] - 0s 978us/step - loss: 0.3346 - accuracy: 0.8633\n",
            "Epoch 74/100\n",
            "250/250 [==============================] - 0s 988us/step - loss: 0.3345 - accuracy: 0.8650\n",
            "Epoch 75/100\n",
            "250/250 [==============================] - 0s 963us/step - loss: 0.3344 - accuracy: 0.8620\n",
            "Epoch 76/100\n",
            "250/250 [==============================] - 0s 953us/step - loss: 0.3342 - accuracy: 0.8636\n",
            "Epoch 77/100\n",
            "250/250 [==============================] - 0s 967us/step - loss: 0.3344 - accuracy: 0.8637\n",
            "Epoch 78/100\n",
            "250/250 [==============================] - 0s 980us/step - loss: 0.3342 - accuracy: 0.8645\n",
            "Epoch 79/100\n",
            "250/250 [==============================] - 0s 1ms/step - loss: 0.3339 - accuracy: 0.8648\n",
            "Epoch 80/100\n",
            "250/250 [==============================] - 0s 1ms/step - loss: 0.3341 - accuracy: 0.8636\n",
            "Epoch 81/100\n",
            "250/250 [==============================] - 0s 1ms/step - loss: 0.3342 - accuracy: 0.8644\n",
            "Epoch 82/100\n",
            "250/250 [==============================] - 0s 1ms/step - loss: 0.3340 - accuracy: 0.8630\n",
            "Epoch 83/100\n",
            "250/250 [==============================] - 0s 953us/step - loss: 0.3339 - accuracy: 0.8639\n",
            "Epoch 84/100\n",
            "250/250 [==============================] - 0s 935us/step - loss: 0.3340 - accuracy: 0.8634\n",
            "Epoch 85/100\n",
            "250/250 [==============================] - 0s 1ms/step - loss: 0.3341 - accuracy: 0.8643\n",
            "Epoch 86/100\n",
            "250/250 [==============================] - 0s 955us/step - loss: 0.3339 - accuracy: 0.8639\n",
            "Epoch 87/100\n",
            "250/250 [==============================] - 0s 958us/step - loss: 0.3338 - accuracy: 0.8646\n",
            "Epoch 88/100\n",
            "250/250 [==============================] - 0s 943us/step - loss: 0.3338 - accuracy: 0.8637\n",
            "Epoch 89/100\n",
            "250/250 [==============================] - 0s 974us/step - loss: 0.3340 - accuracy: 0.8640\n",
            "Epoch 90/100\n",
            "250/250 [==============================] - 0s 1ms/step - loss: 0.3336 - accuracy: 0.8651\n",
            "Epoch 91/100\n",
            "250/250 [==============================] - 0s 1ms/step - loss: 0.3339 - accuracy: 0.8640\n",
            "Epoch 92/100\n",
            "250/250 [==============================] - 0s 1ms/step - loss: 0.3336 - accuracy: 0.8631\n",
            "Epoch 93/100\n",
            "250/250 [==============================] - 0s 999us/step - loss: 0.3335 - accuracy: 0.8649\n",
            "Epoch 94/100\n",
            "250/250 [==============================] - 0s 1ms/step - loss: 0.3334 - accuracy: 0.8637\n",
            "Epoch 95/100\n",
            "250/250 [==============================] - 0s 982us/step - loss: 0.3338 - accuracy: 0.8648\n",
            "Epoch 96/100\n",
            "250/250 [==============================] - 0s 971us/step - loss: 0.3334 - accuracy: 0.8641\n",
            "Epoch 97/100\n",
            "250/250 [==============================] - 0s 1ms/step - loss: 0.3336 - accuracy: 0.8639\n",
            "Epoch 98/100\n",
            "250/250 [==============================] - 0s 923us/step - loss: 0.3333 - accuracy: 0.8645\n",
            "Epoch 99/100\n",
            "250/250 [==============================] - 0s 967us/step - loss: 0.3335 - accuracy: 0.8645\n",
            "Epoch 100/100\n",
            "250/250 [==============================] - 0s 1ms/step - loss: 0.3334 - accuracy: 0.8643\n"
          ],
          "name": "stdout"
        },
        {
          "output_type": "execute_result",
          "data": {
            "text/plain": [
              "<tensorflow.python.keras.callbacks.History at 0x7f71d3536630>"
            ]
          },
          "metadata": {
            "tags": []
          },
          "execution_count": 16
        }
      ]
    },
    {
      "cell_type": "markdown",
      "metadata": {
        "id": "tJj5k2MxZga3"
      },
      "source": [
        "## Part 4 - Making the predictions and evaluating the model"
      ]
    },
    {
      "cell_type": "markdown",
      "metadata": {
        "id": "84QFoqGYeXHL"
      },
      "source": [
        "### Predicting the result of a single observation"
      ]
    },
    {
      "cell_type": "markdown",
      "metadata": {
        "id": "CGRo3eacgDdC"
      },
      "source": [
        "#Task:\n",
        "\n",
        "Use our ANN model to predict if the customer with the following informations will leave the bank: \n",
        "\n",
        "Geography: France\n",
        "\n",
        "Credit Score: 600\n",
        "\n",
        "Gender: Male\n",
        "\n",
        "Age: 40 years old\n",
        "\n",
        "Tenure: 3 years\n",
        "\n",
        "Balance: \\$ 60000\n",
        "\n",
        "Number of Products: 2\n",
        "\n",
        "Does this customer have a credit card ? Yes\n",
        "\n",
        "Is this customer an Active Member: Yes\n",
        "\n",
        "Estimated Salary: \\$ 50000\n",
        "\n",
        "So, should we say goodbye to that customer ?"
      ]
    },
    {
      "cell_type": "code",
      "metadata": {
        "id": "n2_46f0K_4uL",
        "outputId": "cd5bca45-0ace-42cb-e4a7-0bf90f827fe7",
        "colab": {
          "base_uri": "https://localhost:8080/"
        }
      },
      "source": [
        "print(ann.predict(sc.transform([[1,0,0,600,1,40,3,60000,2,1,1,50000]]))>0.5)"
      ],
      "execution_count": 17,
      "outputs": [
        {
          "output_type": "stream",
          "text": [
            "[[False]]\n"
          ],
          "name": "stdout"
        }
      ]
    },
    {
      "cell_type": "markdown",
      "metadata": {
        "id": "ZhU1LTgPg-kH"
      },
      "source": [
        "**Solution**"
      ]
    },
    {
      "cell_type": "markdown",
      "metadata": {
        "id": "wGjx94g2n7OV"
      },
      "source": [
        "Therefore, our ANN model predicts that this customer stays in the bank!\n",
        "\n",
        "**Important note 1:** Notice that the values of the features were all input in a double pair of square brackets. That's because the \"predict\" method always expects a 2D array as the format of its inputs. And putting our values into a double pair of square brackets makes the input exactly a 2D array.\n",
        "\n",
        "**Important note 2:** Notice also that the \"France\" country was not input as a string in the last column but as \"1, 0, 0\" in the first three columns. That's because of course the predict method expects the one-hot-encoded values of the state, and as we see in the first row of the matrix of features X, \"France\" was encoded as \"1, 0, 0\". And be careful to include these values in the first three columns, because the dummy variables are always created in the first columns."
      ]
    },
    {
      "cell_type": "markdown",
      "metadata": {
        "id": "u7yx47jPZt11"
      },
      "source": [
        "### Predicting the Test set results"
      ]
    },
    {
      "cell_type": "code",
      "metadata": {
        "id": "xncm0ZixBa-9",
        "outputId": "acd76958-8639-4aa3-aef9-345ba5a5afbc",
        "colab": {
          "base_uri": "https://localhost:8080/"
        }
      },
      "source": [
        "y_pred = ann.predict(X_test)\n",
        "y_pred = (y_pred > 0.5)\n",
        "print(np.concatenate((y_pred.reshape(len(y_pred),1), y_test.reshape(len(y_test),1)),1))"
      ],
      "execution_count": 18,
      "outputs": [
        {
          "output_type": "stream",
          "text": [
            "[[0 0]\n",
            " [0 1]\n",
            " [0 0]\n",
            " ...\n",
            " [0 0]\n",
            " [0 0]\n",
            " [0 0]]\n"
          ],
          "name": "stdout"
        }
      ]
    },
    {
      "cell_type": "markdown",
      "metadata": {
        "id": "o0oyfLWoaEGw"
      },
      "source": [
        "### Making the Confusion Matrix"
      ]
    },
    {
      "cell_type": "code",
      "metadata": {
        "id": "hNvtU92qBm-4",
        "outputId": "87e0d834-4dbb-48d6-a8d1-7002dd63f003",
        "colab": {
          "base_uri": "https://localhost:8080/"
        }
      },
      "source": [
        "from sklearn.metrics import confusion_matrix, accuracy_score\n",
        "cm = confusion_matrix(y_test, y_pred)\n",
        "print(cm)\n",
        "accuracy_score(y_test, y_pred)"
      ],
      "execution_count": 19,
      "outputs": [
        {
          "output_type": "stream",
          "text": [
            "[[1522   73]\n",
            " [ 204  201]]\n"
          ],
          "name": "stdout"
        },
        {
          "output_type": "execute_result",
          "data": {
            "text/plain": [
              "0.8615"
            ]
          },
          "metadata": {
            "tags": []
          },
          "execution_count": 19
        }
      ]
    }
  ]
}